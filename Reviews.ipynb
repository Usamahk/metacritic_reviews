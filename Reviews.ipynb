{
 "cells": [
  {
   "cell_type": "markdown",
   "metadata": {},
   "source": [
    "# Game reviews\n",
    "\n",
    "This notebook is where I perfrom some of the basics to scrape metacritic of it's data on video games. With this I can perform some analysis, create some vizualizations and do a study on one of my favorite subjects.\n",
    "\n",
    "First let's import some libraries"
   ]
  },
  {
   "cell_type": "code",
   "execution_count": 238,
   "metadata": {},
   "outputs": [],
   "source": [
    "import pandas as pd\n",
    "import numpy as np\n",
    "import requests\n",
    "import bs4\n",
    "from bs4 import BeautifulSoup\n",
    "import urllib\n",
    "from urllib.request import urlopen\n",
    "import matplotlib as plt\n",
    "%matplotlib inline"
   ]
  },
  {
   "cell_type": "markdown",
   "metadata": {},
   "source": [
    "Below are the URLs for both the detailed and condensed views. There are differences to how it's laid out, the detailed has additional data such as images and review excerpts/descriptions but is a little harder to wrangle so to get the important info such as title, platfrom, year, user and metascore I'm using the condensed view"
   ]
  },
  {
   "cell_type": "code",
   "execution_count": 4,
   "metadata": {},
   "outputs": [],
   "source": [
    "#URL = \"https://www.metacritic.com/browse/games/score/metascore/all/all/filtered?sort=desc&view=detailed\"\n",
    "URL = \"https://www.metacritic.com/browse/games/score/metascore/all/all/filtered?view=condensed&sort=desc&page=0\""
   ]
  },
  {
   "cell_type": "markdown",
   "metadata": {},
   "source": [
    "Metacritic only allows browsers to access so just had to put this little header so it thinks I'm a person accessing"
   ]
  },
  {
   "cell_type": "code",
   "execution_count": 183,
   "metadata": {},
   "outputs": [],
   "source": [
    "user_agent = 'Mozilla/5.0 (Windows; U; Windows NT 5.1; en-US; rv:1.9.0.7) Gecko/2009021910 Firefox/3.0.7'\n",
    "headers = {'User-Agent':user_agent,} \n",
    "request = urllib.request.Request(URL,None,headers) \n",
    "response = urllib.request.urlopen(request)\n",
    "data = response.read()\n",
    "\n",
    "soup = BeautifulSoup(data, \"html.parser\")"
   ]
  },
  {
   "cell_type": "code",
   "execution_count": 64,
   "metadata": {},
   "outputs": [],
   "source": [
    "# Just to check everything is in order\n",
    "# print(soup)"
   ]
  },
  {
   "cell_type": "code",
   "execution_count": 18,
   "metadata": {},
   "outputs": [],
   "source": [
    "test = soup.find('div', class_ = \"product_wrap\")"
   ]
  },
  {
   "cell_type": "markdown",
   "metadata": {},
   "source": [
    "Here is the pattern of the chunks im interested in"
   ]
  },
  {
   "cell_type": "code",
   "execution_count": 19,
   "metadata": {},
   "outputs": [
    {
     "data": {
      "text/plain": [
       "<div class=\"product_wrap\">\n",
       "<div class=\"basic_stat product_title\">\n",
       "<a href=\"/game/nintendo-64/the-legend-of-zelda-ocarina-of-time\">\n",
       "                            The Legend of Zelda: Ocarina of Time\n",
       "                                                            (N64)\n",
       "                                                    </a>\n",
       "</div>\n",
       "<div class=\"basic_stat product_score brief_metascore\">\n",
       "<div class=\"metascore_w small game positive\">99</div>\n",
       "</div>\n",
       "<div class=\"more_stats condensed_stats\">\n",
       "<ul class=\"more_stats\">\n",
       "<li class=\"stat product_avguserscore\">\n",
       "<span class=\"label\">User:</span>\n",
       "<span class=\"data textscore textscore_outstanding\">9.1</span>\n",
       "</li>\n",
       "<li class=\"stat release_date full_release_date\">\n",
       "<span class=\"label\">Release Date:</span>\n",
       "<span class=\"data\">Nov 23, 1998</span>\n",
       "</li>\n",
       "</ul>\n",
       "</div>\n",
       "</div>"
      ]
     },
     "execution_count": 19,
     "metadata": {},
     "output_type": "execute_result"
    }
   ],
   "source": [
    "test"
   ]
  },
  {
   "cell_type": "markdown",
   "metadata": {},
   "source": [
    "### Debugging"
   ]
  },
  {
   "cell_type": "code",
   "execution_count": 191,
   "metadata": {},
   "outputs": [],
   "source": [
    "games = soup.find('div', class_ = \"product_wrap\")"
   ]
  },
  {
   "cell_type": "code",
   "execution_count": 192,
   "metadata": {},
   "outputs": [
    {
     "data": {
      "text/plain": [
       "<div class=\"product_wrap\">\n",
       "<div class=\"basic_stat product_title\">\n",
       "<a href=\"/game/wii/mysims-skyheroes\">\n",
       "                            MySims SkyHeroes\n",
       "                                                            (WII)\n",
       "                                                    </a>\n",
       "</div>\n",
       "<div class=\"basic_stat product_score brief_metascore\">\n",
       "<div class=\"metascore_w small game mixed\">67</div>\n",
       "</div>\n",
       "<div class=\"more_stats condensed_stats\">\n",
       "<ul class=\"more_stats\">\n",
       "<li class=\"stat product_avguserscore\">\n",
       "<span class=\"label\">User:</span>\n",
       "<span class=\"data textscore textscore_mixed\">5.3</span>\n",
       "</li>\n",
       "<li class=\"stat release_date full_release_date\">\n",
       "<span class=\"label\">Release Date:</span>\n",
       "<span class=\"data\">Sep 28, 2010</span>\n",
       "</li>\n",
       "</ul>\n",
       "</div>\n",
       "</div>"
      ]
     },
     "execution_count": 192,
     "metadata": {},
     "output_type": "execute_result"
    }
   ],
   "source": [
    "games"
   ]
  },
  {
   "cell_type": "markdown",
   "metadata": {},
   "source": [
    "#### Scrape the title and platform"
   ]
  },
  {
   "cell_type": "code",
   "execution_count": 193,
   "metadata": {
    "scrolled": true
   },
   "outputs": [
    {
     "name": "stdout",
     "output_type": "stream",
     "text": [
      "MySims SkyHeroes\n",
      "(WII)\n"
     ]
    }
   ],
   "source": [
    "title_platform = games.find('a').text\n",
    "title_platform = str(title_platform).replace(\"\\n\".join([\"  \"]), \"\").strip()\n",
    "\n",
    "print(title_platform)"
   ]
  },
  {
   "cell_type": "markdown",
   "metadata": {},
   "source": [
    "Theres a little formatting to do here so need to pull platform and title from each other"
   ]
  },
  {
   "cell_type": "code",
   "execution_count": 148,
   "metadata": {},
   "outputs": [
    {
     "name": "stdout",
     "output_type": "stream",
     "text": [
      "3\n",
      "N64\n",
      "The Legend of Zelda: Ocarina of Time\n"
     ]
    },
    {
     "data": {
      "text/plain": [
       "'N64'"
      ]
     },
     "execution_count": 148,
     "metadata": {},
     "output_type": "execute_result"
    }
   ],
   "source": [
    "title_platform\n",
    "title = title_platform[0:title_platform.find('\\n')]\n",
    "platform = title_platform[title_platform.find('\\n')+2:len(title_platform)-1]\n",
    "print(len(platform))\n",
    "\n",
    "\n",
    "print(platform)\n",
    "print(title)\n",
    "platform\n"
   ]
  },
  {
   "cell_type": "code",
   "execution_count": 123,
   "metadata": {},
   "outputs": [
    {
     "data": {
      "text/plain": [
       "'1234'"
      ]
     },
     "execution_count": 123,
     "metadata": {},
     "output_type": "execute_result"
    }
   ],
   "source": [
    "\n",
    "\\>>> s = 'gfgfdAAA1234ZZZuijjk'\n",
    ">>> start = s.find('AAA') + 3\n",
    ">>> end = s.find('ZZZ', start)\n",
    ">>> s[start:end]"
   ]
  },
  {
   "cell_type": "markdown",
   "metadata": {},
   "source": [
    "#### Scrape scores"
   ]
  },
  {
   "cell_type": "code",
   "execution_count": 70,
   "metadata": {},
   "outputs": [
    {
     "name": "stdout",
     "output_type": "stream",
     "text": [
      "99 9.1\n"
     ]
    }
   ],
   "source": [
    "m_score = games.find('div', class_ = 'metascore_w').text\n",
    "u_score = games.find('span', class_ = 'textscore').text\n",
    "\n",
    "print(m_score, u_score)"
   ]
  },
  {
   "cell_type": "markdown",
   "metadata": {},
   "source": [
    "#### Scrape release date"
   ]
  },
  {
   "cell_type": "code",
   "execution_count": 84,
   "metadata": {},
   "outputs": [
    {
     "name": "stdout",
     "output_type": "stream",
     "text": [
      "Nov 23, 1998\n"
     ]
    }
   ],
   "source": [
    "r_date = games.find_all('span', class_= 'data')[1].text\n",
    "print(r_date)"
   ]
  },
  {
   "cell_type": "markdown",
   "metadata": {},
   "source": [
    "## The scraping loop\n",
    "Right now, this loop is doing just the first page. But there are 161 pages each with 100 reviews on them so an approx 16100 games in this df"
   ]
  },
  {
   "cell_type": "code",
   "execution_count": null,
   "metadata": {},
   "outputs": [],
   "source": []
  },
  {
   "cell_type": "markdown",
   "metadata": {},
   "source": [
    "It seems like it takes about 3.775 seconds on average per page. So multiplying that by 162 and dividing by 50 seems to mean that it will take about 10 minutes to fully scrape"
   ]
  },
  {
   "cell_type": "code",
   "execution_count": 168,
   "metadata": {},
   "outputs": [
    {
     "data": {
      "text/plain": [
       "10.192499999999999"
      ]
     },
     "execution_count": 168,
     "metadata": {},
     "output_type": "execute_result"
    }
   ],
   "source": [
    "(3.775 *162)/60"
   ]
  },
  {
   "cell_type": "markdown",
   "metadata": {},
   "source": [
    "Note that this chunk timed out once, not sure why but in loading a new page it didnt load fully. Possibly because I left the screen but not sure.."
   ]
  },
  {
   "cell_type": "code",
   "execution_count": 197,
   "metadata": {},
   "outputs": [
    {
     "ename": "AttributeError",
     "evalue": "'NoneType' object has no attribute 'text'",
     "output_type": "error",
     "traceback": [
      "\u001b[0;31m---------------------------------------------------------------------------\u001b[0m",
      "\u001b[0;31mAttributeError\u001b[0m                            Traceback (most recent call last)",
      "\u001b[0;32m<timed exec>\u001b[0m in \u001b[0;36m<module>\u001b[0;34m()\u001b[0m\n",
      "\u001b[0;31mAttributeError\u001b[0m: 'NoneType' object has no attribute 'text'"
     ]
    }
   ],
   "source": [
    "%%time\n",
    "#df = pd.DataFrame(columns=[\"Title\", \"Platform\", \"Metascore\", \"User Score\", \"Release Date\"])\n",
    "\n",
    "for i in range(0,162):\n",
    "    URL = \"https://www.metacritic.com/browse/games/score/metascore/all/all/filtered?view=condensed&sort=desc&page=\"+str(i)\n",
    "    user_agent = 'Mozilla/5.0 (Windows; U; Windows NT 5.1; en-US; rv:1.9.0.7) Gecko/2009021910 Firefox/3.0.7'\n",
    "    headers = {'User-Agent':user_agent,} \n",
    "    request = urllib.request.Request(URL,None,headers) \n",
    "    response = urllib.request.urlopen(request)\n",
    "    data = response.read()\n",
    "\n",
    "    soup = BeautifulSoup(data, \"html.parser\")\n",
    "\n",
    "    for games in soup.find_all('div', class_ = \"product_wrap\", limit=100):\n",
    "\n",
    "        # Extract title and platform\n",
    "        title_platform = games.find('a').text\n",
    "        title_platform = str(title_platform).replace(\"\\n\".join([\"  \"]), \"\").strip()\n",
    "\n",
    "        title = title_platform[0:title_platform.find('\\n')]\n",
    "        platform = title_platform[title_platform.find('\\n')+2:len(title_platform)-1]\n",
    "\n",
    "        # Extract Metascore and User score\n",
    "        m_score = games.find('div', class_ = 'metascore_w').text\n",
    "        u_score = games.find('span', class_ = 'textscore').text\n",
    "\n",
    "        # Extract release date\n",
    "        r_date = games.find_all('span', class_= 'data')[1].text\n",
    "\n",
    "        df = df.append({'Title':title, 'Platform':platform ,'Metascore':m_score, 'User Score':u_score, 'Release Date':r_date}, ignore_index = True)"
   ]
  },
  {
   "cell_type": "markdown",
   "metadata": {},
   "source": [
    "Now the finished data frame"
   ]
  },
  {
   "cell_type": "code",
   "execution_count": 204,
   "metadata": {},
   "outputs": [
    {
     "data": {
      "text/html": [
       "<div>\n",
       "<style scoped>\n",
       "    .dataframe tbody tr th:only-of-type {\n",
       "        vertical-align: middle;\n",
       "    }\n",
       "\n",
       "    .dataframe tbody tr th {\n",
       "        vertical-align: top;\n",
       "    }\n",
       "\n",
       "    .dataframe thead th {\n",
       "        text-align: right;\n",
       "    }\n",
       "</style>\n",
       "<table border=\"1\" class=\"dataframe\">\n",
       "  <thead>\n",
       "    <tr style=\"text-align: right;\">\n",
       "      <th></th>\n",
       "      <th>Title</th>\n",
       "      <th>Platform</th>\n",
       "      <th>Metascore</th>\n",
       "      <th>User Score</th>\n",
       "      <th>Release Date</th>\n",
       "    </tr>\n",
       "  </thead>\n",
       "  <tbody>\n",
       "    <tr>\n",
       "      <th>0</th>\n",
       "      <td>The Legend of Zelda: Ocarina of Time</td>\n",
       "      <td>N64</td>\n",
       "      <td>99</td>\n",
       "      <td>9.1</td>\n",
       "      <td>Nov 23, 1998</td>\n",
       "    </tr>\n",
       "    <tr>\n",
       "      <th>1</th>\n",
       "      <td>Tony Hawk's Pro Skater 2</td>\n",
       "      <td>PS</td>\n",
       "      <td>98</td>\n",
       "      <td>7.4</td>\n",
       "      <td>Sep 20, 2000</td>\n",
       "    </tr>\n",
       "    <tr>\n",
       "      <th>2</th>\n",
       "      <td>Grand Theft Auto IV</td>\n",
       "      <td>PS3</td>\n",
       "      <td>98</td>\n",
       "      <td>7.5</td>\n",
       "      <td>Apr 29, 2008</td>\n",
       "    </tr>\n",
       "    <tr>\n",
       "      <th>3</th>\n",
       "      <td>SoulCalibur</td>\n",
       "      <td>DC</td>\n",
       "      <td>98</td>\n",
       "      <td>8.7</td>\n",
       "      <td>Sep  8, 1999</td>\n",
       "    </tr>\n",
       "    <tr>\n",
       "      <th>4</th>\n",
       "      <td>Grand Theft Auto IV</td>\n",
       "      <td>X360</td>\n",
       "      <td>98</td>\n",
       "      <td>7.9</td>\n",
       "      <td>Apr 29, 2008</td>\n",
       "    </tr>\n",
       "  </tbody>\n",
       "</table>\n",
       "</div>"
      ],
      "text/plain": [
       "                                  Title Platform Metascore User Score  \\\n",
       "0  The Legend of Zelda: Ocarina of Time      N64        99        9.1   \n",
       "1              Tony Hawk's Pro Skater 2       PS        98        7.4   \n",
       "2                   Grand Theft Auto IV      PS3        98        7.5   \n",
       "3                           SoulCalibur       DC        98        8.7   \n",
       "4                   Grand Theft Auto IV     X360        98        7.9   \n",
       "\n",
       "   Release Date  \n",
       "0  Nov 23, 1998  \n",
       "1  Sep 20, 2000  \n",
       "2  Apr 29, 2008  \n",
       "3  Sep  8, 1999  \n",
       "4  Apr 29, 2008  "
      ]
     },
     "execution_count": 204,
     "metadata": {},
     "output_type": "execute_result"
    }
   ],
   "source": [
    "df.head()"
   ]
  },
  {
   "cell_type": "markdown",
   "metadata": {},
   "source": [
    "Of course I dont want to lose this so just saved to csv and pickled it as well for an easy read"
   ]
  },
  {
   "cell_type": "code",
   "execution_count": 199,
   "metadata": {},
   "outputs": [],
   "source": [
    "df.to_csv('meta_reviews.csv')\n",
    "df.to_pickle('meta_reviews.pkl')"
   ]
  },
  {
   "cell_type": "markdown",
   "metadata": {},
   "source": [
    "## Analysis"
   ]
  },
  {
   "cell_type": "code",
   "execution_count": 207,
   "metadata": {},
   "outputs": [],
   "source": [
    "reviews = df"
   ]
  },
  {
   "cell_type": "code",
   "execution_count": 208,
   "metadata": {},
   "outputs": [
    {
     "name": "stdout",
     "output_type": "stream",
     "text": [
      "<class 'pandas.core.frame.DataFrame'>\n",
      "RangeIndex: 16099 entries, 0 to 16098\n",
      "Data columns (total 5 columns):\n",
      "Title           16099 non-null object\n",
      "Platform        16099 non-null object\n",
      "Metascore       16099 non-null object\n",
      "User Score      16099 non-null object\n",
      "Release Date    16099 non-null object\n",
      "dtypes: object(5)\n",
      "memory usage: 628.9+ KB\n"
     ]
    }
   ],
   "source": [
    "reviews.info()"
   ]
  },
  {
   "cell_type": "markdown",
   "metadata": {},
   "source": [
    "I've realized this requires some cleaning still due to values such as 'tbd' in scores and the fact that it's not numeric. Also, need to clean up the dates to be able to split and filter by year/month"
   ]
  },
  {
   "cell_type": "code",
   "execution_count": 248,
   "metadata": {},
   "outputs": [
    {
     "name": "stdout",
     "output_type": "stream",
     "text": [
      "<class 'pandas.core.frame.DataFrame'>\n",
      "RangeIndex: 16099 entries, 0 to 16098\n",
      "Data columns (total 5 columns):\n",
      "Title           16099 non-null object\n",
      "Platform        16099 non-null object\n",
      "Metascore       16099 non-null int64\n",
      "User Score      16099 non-null object\n",
      "Release Date    16099 non-null datetime64[ns]\n",
      "dtypes: datetime64[ns](1), int64(1), object(3)\n",
      "memory usage: 628.9+ KB\n"
     ]
    }
   ],
   "source": [
    "reviews['Release Date'] = pd.to_datetime(reviews['Release Date'])\n",
    "reviews['Metascore'] = pd.to_numeric(reviews['Metascore'])\n",
    "reviews.info()"
   ]
  },
  {
   "cell_type": "code",
   "execution_count": 261,
   "metadata": {},
   "outputs": [
    {
     "data": {
      "text/html": [
       "<div>\n",
       "<style scoped>\n",
       "    .dataframe tbody tr th:only-of-type {\n",
       "        vertical-align: middle;\n",
       "    }\n",
       "\n",
       "    .dataframe tbody tr th {\n",
       "        vertical-align: top;\n",
       "    }\n",
       "\n",
       "    .dataframe thead th {\n",
       "        text-align: right;\n",
       "    }\n",
       "</style>\n",
       "<table border=\"1\" class=\"dataframe\">\n",
       "  <thead>\n",
       "    <tr style=\"text-align: right;\">\n",
       "      <th></th>\n",
       "      <th>Title</th>\n",
       "      <th>Platform</th>\n",
       "      <th>Metascore</th>\n",
       "      <th>User Score</th>\n",
       "      <th>Release Date</th>\n",
       "    </tr>\n",
       "  </thead>\n",
       "  <tbody>\n",
       "    <tr>\n",
       "      <th>474</th>\n",
       "      <td>Madden NFL 2005</td>\n",
       "      <td>GC</td>\n",
       "      <td>90</td>\n",
       "      <td>tbd</td>\n",
       "      <td>2004-08-09</td>\n",
       "    </tr>\n",
       "    <tr>\n",
       "      <th>868</th>\n",
       "      <td>Tiger Woods PGA Tour 2005</td>\n",
       "      <td>GC</td>\n",
       "      <td>88</td>\n",
       "      <td>tbd</td>\n",
       "      <td>2004-09-20</td>\n",
       "    </tr>\n",
       "    <tr>\n",
       "      <th>924</th>\n",
       "      <td>Guacamelee! 2</td>\n",
       "      <td>XONE</td>\n",
       "      <td>87</td>\n",
       "      <td>tbd</td>\n",
       "      <td>2019-01-18</td>\n",
       "    </tr>\n",
       "    <tr>\n",
       "      <th>999</th>\n",
       "      <td>NFL 2K2</td>\n",
       "      <td>XBOX</td>\n",
       "      <td>87</td>\n",
       "      <td>tbd</td>\n",
       "      <td>2002-01-09</td>\n",
       "    </tr>\n",
       "    <tr>\n",
       "      <th>1146</th>\n",
       "      <td>NASCAR 2005: Chase for the Cup</td>\n",
       "      <td>XBOX</td>\n",
       "      <td>86</td>\n",
       "      <td>tbd</td>\n",
       "      <td>2004-08-31</td>\n",
       "    </tr>\n",
       "    <tr>\n",
       "      <th>1317</th>\n",
       "      <td>Moto Racer Advance</td>\n",
       "      <td>GBA</td>\n",
       "      <td>86</td>\n",
       "      <td>tbd</td>\n",
       "      <td>2002-12-05</td>\n",
       "    </tr>\n",
       "    <tr>\n",
       "      <th>1698</th>\n",
       "      <td>Dave Mirra Freestyle BMX 2</td>\n",
       "      <td>GBA</td>\n",
       "      <td>85</td>\n",
       "      <td>tbd</td>\n",
       "      <td>2001-11-25</td>\n",
       "    </tr>\n",
       "    <tr>\n",
       "      <th>1946</th>\n",
       "      <td>Pinball FX 2: Marvel Pinball - Vengeance and V...</td>\n",
       "      <td>X360</td>\n",
       "      <td>84</td>\n",
       "      <td>tbd</td>\n",
       "      <td>2011-12-13</td>\n",
       "    </tr>\n",
       "    <tr>\n",
       "      <th>2034</th>\n",
       "      <td>NASCAR Thunder 2003</td>\n",
       "      <td>XBOX</td>\n",
       "      <td>84</td>\n",
       "      <td>tbd</td>\n",
       "      <td>2002-09-19</td>\n",
       "    </tr>\n",
       "    <tr>\n",
       "      <th>2098</th>\n",
       "      <td>Virtua Tennis</td>\n",
       "      <td>GBA</td>\n",
       "      <td>83</td>\n",
       "      <td>tbd</td>\n",
       "      <td>2002-10-08</td>\n",
       "    </tr>\n",
       "    <tr>\n",
       "      <th>2208</th>\n",
       "      <td>OlliOlli: Switch Stance</td>\n",
       "      <td>Switch</td>\n",
       "      <td>83</td>\n",
       "      <td>tbd</td>\n",
       "      <td>2019-02-14</td>\n",
       "    </tr>\n",
       "    <tr>\n",
       "      <th>2258</th>\n",
       "      <td>Battle Chef Brigade</td>\n",
       "      <td>PS4</td>\n",
       "      <td>83</td>\n",
       "      <td>tbd</td>\n",
       "      <td>2018-08-28</td>\n",
       "    </tr>\n",
       "    <tr>\n",
       "      <th>2321</th>\n",
       "      <td>Transpose</td>\n",
       "      <td>PS4</td>\n",
       "      <td>83</td>\n",
       "      <td>tbd</td>\n",
       "      <td>2018-11-06</td>\n",
       "    </tr>\n",
       "    <tr>\n",
       "      <th>2516</th>\n",
       "      <td>GT Advance Championship Racing</td>\n",
       "      <td>GBA</td>\n",
       "      <td>82</td>\n",
       "      <td>tbd</td>\n",
       "      <td>2001-06-08</td>\n",
       "    </tr>\n",
       "    <tr>\n",
       "      <th>2692</th>\n",
       "      <td>NCAA College Basketball 2K3</td>\n",
       "      <td>GC</td>\n",
       "      <td>82</td>\n",
       "      <td>tbd</td>\n",
       "      <td>2002-12-02</td>\n",
       "    </tr>\n",
       "    <tr>\n",
       "      <th>2741</th>\n",
       "      <td>Super Hydorah</td>\n",
       "      <td>PC</td>\n",
       "      <td>82</td>\n",
       "      <td>tbd</td>\n",
       "      <td>2017-09-20</td>\n",
       "    </tr>\n",
       "    <tr>\n",
       "      <th>2832</th>\n",
       "      <td>NASCAR Thunder 2002</td>\n",
       "      <td>XBOX</td>\n",
       "      <td>82</td>\n",
       "      <td>tbd</td>\n",
       "      <td>2001-11-14</td>\n",
       "    </tr>\n",
       "    <tr>\n",
       "      <th>2977</th>\n",
       "      <td>NCAA March Madness 2004</td>\n",
       "      <td>XBOX</td>\n",
       "      <td>81</td>\n",
       "      <td>tbd</td>\n",
       "      <td>2003-11-17</td>\n",
       "    </tr>\n",
       "    <tr>\n",
       "      <th>2980</th>\n",
       "      <td>NASCAR Heat 2002</td>\n",
       "      <td>PS2</td>\n",
       "      <td>81</td>\n",
       "      <td>tbd</td>\n",
       "      <td>2001-06-18</td>\n",
       "    </tr>\n",
       "    <tr>\n",
       "      <th>3040</th>\n",
       "      <td>Capcom Classics Collection</td>\n",
       "      <td>XBOX</td>\n",
       "      <td>81</td>\n",
       "      <td>tbd</td>\n",
       "      <td>2005-09-27</td>\n",
       "    </tr>\n",
       "    <tr>\n",
       "      <th>3209</th>\n",
       "      <td>Tiger Woods PGA Tour 07</td>\n",
       "      <td>PS3</td>\n",
       "      <td>81</td>\n",
       "      <td>tbd</td>\n",
       "      <td>2006-11-14</td>\n",
       "    </tr>\n",
       "    <tr>\n",
       "      <th>3219</th>\n",
       "      <td>FORM</td>\n",
       "      <td>PC</td>\n",
       "      <td>81</td>\n",
       "      <td>tbd</td>\n",
       "      <td>2017-06-01</td>\n",
       "    </tr>\n",
       "    <tr>\n",
       "      <th>3251</th>\n",
       "      <td>Flanker 2.0</td>\n",
       "      <td>PC</td>\n",
       "      <td>81</td>\n",
       "      <td>tbd</td>\n",
       "      <td>1999-09-30</td>\n",
       "    </tr>\n",
       "    <tr>\n",
       "      <th>3373</th>\n",
       "      <td>Lumines Remastered</td>\n",
       "      <td>XONE</td>\n",
       "      <td>81</td>\n",
       "      <td>tbd</td>\n",
       "      <td>2018-06-26</td>\n",
       "    </tr>\n",
       "    <tr>\n",
       "      <th>3383</th>\n",
       "      <td>The 2D Adventures of Rotating Octopus Character</td>\n",
       "      <td>PSP</td>\n",
       "      <td>81</td>\n",
       "      <td>tbd</td>\n",
       "      <td>2011-06-02</td>\n",
       "    </tr>\n",
       "    <tr>\n",
       "      <th>3412</th>\n",
       "      <td>Knockout Kings 2001</td>\n",
       "      <td>PS2</td>\n",
       "      <td>81</td>\n",
       "      <td>tbd</td>\n",
       "      <td>2001-02-05</td>\n",
       "    </tr>\n",
       "    <tr>\n",
       "      <th>3522</th>\n",
       "      <td>Sine Mora EX</td>\n",
       "      <td>XONE</td>\n",
       "      <td>80</td>\n",
       "      <td>tbd</td>\n",
       "      <td>2017-08-08</td>\n",
       "    </tr>\n",
       "    <tr>\n",
       "      <th>3579</th>\n",
       "      <td>Colin McRae Rally 2.0</td>\n",
       "      <td>GBA</td>\n",
       "      <td>80</td>\n",
       "      <td>tbd</td>\n",
       "      <td>2002-09-16</td>\n",
       "    </tr>\n",
       "    <tr>\n",
       "      <th>3671</th>\n",
       "      <td>The Jackbox Party Pack 5</td>\n",
       "      <td>PS4</td>\n",
       "      <td>80</td>\n",
       "      <td>tbd</td>\n",
       "      <td>2018-10-16</td>\n",
       "    </tr>\n",
       "    <tr>\n",
       "      <th>3713</th>\n",
       "      <td>Karaoke Revolution Party</td>\n",
       "      <td>GC</td>\n",
       "      <td>80</td>\n",
       "      <td>tbd</td>\n",
       "      <td>2005-11-08</td>\n",
       "    </tr>\n",
       "    <tr>\n",
       "      <th>...</th>\n",
       "      <td>...</td>\n",
       "      <td>...</td>\n",
       "      <td>...</td>\n",
       "      <td>...</td>\n",
       "      <td>...</td>\n",
       "    </tr>\n",
       "    <tr>\n",
       "      <th>15708</th>\n",
       "      <td>Dr. Seuss' The Cat in the Hat</td>\n",
       "      <td>GBA</td>\n",
       "      <td>40</td>\n",
       "      <td>tbd</td>\n",
       "      <td>2003-11-05</td>\n",
       "    </tr>\n",
       "    <tr>\n",
       "      <th>15709</th>\n",
       "      <td>Ducati World Racing Challenge</td>\n",
       "      <td>DC</td>\n",
       "      <td>40</td>\n",
       "      <td>tbd</td>\n",
       "      <td>2001-02-13</td>\n",
       "    </tr>\n",
       "    <tr>\n",
       "      <th>15717</th>\n",
       "      <td>Protothea</td>\n",
       "      <td>WII</td>\n",
       "      <td>40</td>\n",
       "      <td>tbd</td>\n",
       "      <td>2008-06-02</td>\n",
       "    </tr>\n",
       "    <tr>\n",
       "      <th>15720</th>\n",
       "      <td>Underground Pool</td>\n",
       "      <td>DS</td>\n",
       "      <td>40</td>\n",
       "      <td>tbd</td>\n",
       "      <td>2007-01-26</td>\n",
       "    </tr>\n",
       "    <tr>\n",
       "      <th>15721</th>\n",
       "      <td>Freedom: First Resistance</td>\n",
       "      <td>PC</td>\n",
       "      <td>40</td>\n",
       "      <td>tbd</td>\n",
       "      <td>2000-12-14</td>\n",
       "    </tr>\n",
       "    <tr>\n",
       "      <th>15724</th>\n",
       "      <td>Xiaolin Showdown</td>\n",
       "      <td>XBOX</td>\n",
       "      <td>40</td>\n",
       "      <td>tbd</td>\n",
       "      <td>2006-11-15</td>\n",
       "    </tr>\n",
       "    <tr>\n",
       "      <th>15730</th>\n",
       "      <td>Brain Boost: Gamma Wave</td>\n",
       "      <td>DS</td>\n",
       "      <td>40</td>\n",
       "      <td>tbd</td>\n",
       "      <td>2006-11-17</td>\n",
       "    </tr>\n",
       "    <tr>\n",
       "      <th>15731</th>\n",
       "      <td>MTV Sports: Skateboarding featuring Andy Macdo...</td>\n",
       "      <td>PS</td>\n",
       "      <td>40</td>\n",
       "      <td>tbd</td>\n",
       "      <td>2000-09-12</td>\n",
       "    </tr>\n",
       "    <tr>\n",
       "      <th>15735</th>\n",
       "      <td>Freestyle Street Soccer</td>\n",
       "      <td>XBOX</td>\n",
       "      <td>40</td>\n",
       "      <td>tbd</td>\n",
       "      <td>2004-03-25</td>\n",
       "    </tr>\n",
       "    <tr>\n",
       "      <th>15760</th>\n",
       "      <td>Pocket Racers</td>\n",
       "      <td>PSP</td>\n",
       "      <td>39</td>\n",
       "      <td>tbd</td>\n",
       "      <td>2006-11-14</td>\n",
       "    </tr>\n",
       "    <tr>\n",
       "      <th>15779</th>\n",
       "      <td>Tony Hawk's Motion</td>\n",
       "      <td>DS</td>\n",
       "      <td>39</td>\n",
       "      <td>tbd</td>\n",
       "      <td>2008-11-18</td>\n",
       "    </tr>\n",
       "    <tr>\n",
       "      <th>15826</th>\n",
       "      <td>ECW Anarchy Rulz</td>\n",
       "      <td>DC</td>\n",
       "      <td>38</td>\n",
       "      <td>tbd</td>\n",
       "      <td>2000-12-30</td>\n",
       "    </tr>\n",
       "    <tr>\n",
       "      <th>15829</th>\n",
       "      <td>Evolution Snowboarding</td>\n",
       "      <td>PS2</td>\n",
       "      <td>38</td>\n",
       "      <td>tbd</td>\n",
       "      <td>2002-11-26</td>\n",
       "    </tr>\n",
       "    <tr>\n",
       "      <th>15831</th>\n",
       "      <td>The Ripping Friends</td>\n",
       "      <td>GBA</td>\n",
       "      <td>38</td>\n",
       "      <td>tbd</td>\n",
       "      <td>2002-03-24</td>\n",
       "    </tr>\n",
       "    <tr>\n",
       "      <th>15843</th>\n",
       "      <td>Pocket Pool</td>\n",
       "      <td>PSP</td>\n",
       "      <td>37</td>\n",
       "      <td>tbd</td>\n",
       "      <td>2007-04-18</td>\n",
       "    </tr>\n",
       "    <tr>\n",
       "      <th>15857</th>\n",
       "      <td>NFL Blitz 20-02</td>\n",
       "      <td>GBA</td>\n",
       "      <td>37</td>\n",
       "      <td>tbd</td>\n",
       "      <td>2001-09-17</td>\n",
       "    </tr>\n",
       "    <tr>\n",
       "      <th>15858</th>\n",
       "      <td>Defender</td>\n",
       "      <td>GBA</td>\n",
       "      <td>37</td>\n",
       "      <td>tbd</td>\n",
       "      <td>2002-11-03</td>\n",
       "    </tr>\n",
       "    <tr>\n",
       "      <th>15862</th>\n",
       "      <td>Ready 2 Rumble Revolution</td>\n",
       "      <td>WII</td>\n",
       "      <td>37</td>\n",
       "      <td>tbd</td>\n",
       "      <td>2009-03-17</td>\n",
       "    </tr>\n",
       "    <tr>\n",
       "      <th>15863</th>\n",
       "      <td>Mike Tyson Heavyweight Boxing</td>\n",
       "      <td>XBOX</td>\n",
       "      <td>37</td>\n",
       "      <td>tbd</td>\n",
       "      <td>2002-07-17</td>\n",
       "    </tr>\n",
       "    <tr>\n",
       "      <th>15879</th>\n",
       "      <td>Torino 2006 - the Official Video Game of the X...</td>\n",
       "      <td>XBOX</td>\n",
       "      <td>36</td>\n",
       "      <td>tbd</td>\n",
       "      <td>2006-01-24</td>\n",
       "    </tr>\n",
       "    <tr>\n",
       "      <th>15891</th>\n",
       "      <td>Dream Chronicles</td>\n",
       "      <td>X360</td>\n",
       "      <td>36</td>\n",
       "      <td>tbd</td>\n",
       "      <td>2010-10-20</td>\n",
       "    </tr>\n",
       "    <tr>\n",
       "      <th>15893</th>\n",
       "      <td>Air Conflicts: Aces of World War II</td>\n",
       "      <td>PSP</td>\n",
       "      <td>36</td>\n",
       "      <td>tbd</td>\n",
       "      <td>2009-04-14</td>\n",
       "    </tr>\n",
       "    <tr>\n",
       "      <th>15912</th>\n",
       "      <td>Jackass the Game</td>\n",
       "      <td>DS</td>\n",
       "      <td>35</td>\n",
       "      <td>tbd</td>\n",
       "      <td>2008-01-08</td>\n",
       "    </tr>\n",
       "    <tr>\n",
       "      <th>15934</th>\n",
       "      <td>King of Clubs</td>\n",
       "      <td>WII</td>\n",
       "      <td>35</td>\n",
       "      <td>tbd</td>\n",
       "      <td>2008-08-04</td>\n",
       "    </tr>\n",
       "    <tr>\n",
       "      <th>15951</th>\n",
       "      <td>Astro Boy: The Video Game</td>\n",
       "      <td>DS</td>\n",
       "      <td>34</td>\n",
       "      <td>tbd</td>\n",
       "      <td>2009-10-20</td>\n",
       "    </tr>\n",
       "    <tr>\n",
       "      <th>15968</th>\n",
       "      <td>Demonworld: Dark Armies</td>\n",
       "      <td>PC</td>\n",
       "      <td>33</td>\n",
       "      <td>tbd</td>\n",
       "      <td>2002-01-13</td>\n",
       "    </tr>\n",
       "    <tr>\n",
       "      <th>15992</th>\n",
       "      <td>Jenga World Tour</td>\n",
       "      <td>DS</td>\n",
       "      <td>32</td>\n",
       "      <td>tbd</td>\n",
       "      <td>2007-11-13</td>\n",
       "    </tr>\n",
       "    <tr>\n",
       "      <th>16008</th>\n",
       "      <td>Dream Chronicles</td>\n",
       "      <td>PS3</td>\n",
       "      <td>31</td>\n",
       "      <td>tbd</td>\n",
       "      <td>2010-11-23</td>\n",
       "    </tr>\n",
       "    <tr>\n",
       "      <th>16009</th>\n",
       "      <td>CID The Dummy</td>\n",
       "      <td>WII</td>\n",
       "      <td>31</td>\n",
       "      <td>tbd</td>\n",
       "      <td>2009-07-07</td>\n",
       "    </tr>\n",
       "    <tr>\n",
       "      <th>16010</th>\n",
       "      <td>Smash 'N' Survive</td>\n",
       "      <td>PS3</td>\n",
       "      <td>31</td>\n",
       "      <td>tbd</td>\n",
       "      <td>2012-02-22</td>\n",
       "    </tr>\n",
       "  </tbody>\n",
       "</table>\n",
       "<p>1374 rows × 5 columns</p>\n",
       "</div>"
      ],
      "text/plain": [
       "                                                   Title Platform  Metascore  \\\n",
       "474                                      Madden NFL 2005       GC         90   \n",
       "868                            Tiger Woods PGA Tour 2005       GC         88   \n",
       "924                                        Guacamelee! 2     XONE         87   \n",
       "999                                              NFL 2K2     XBOX         87   \n",
       "1146                      NASCAR 2005: Chase for the Cup     XBOX         86   \n",
       "1317                                  Moto Racer Advance      GBA         86   \n",
       "1698                          Dave Mirra Freestyle BMX 2      GBA         85   \n",
       "1946   Pinball FX 2: Marvel Pinball - Vengeance and V...     X360         84   \n",
       "2034                                 NASCAR Thunder 2003     XBOX         84   \n",
       "2098                                       Virtua Tennis      GBA         83   \n",
       "2208                             OlliOlli: Switch Stance   Switch         83   \n",
       "2258                                 Battle Chef Brigade      PS4         83   \n",
       "2321                                           Transpose      PS4         83   \n",
       "2516                      GT Advance Championship Racing      GBA         82   \n",
       "2692                         NCAA College Basketball 2K3       GC         82   \n",
       "2741                                       Super Hydorah       PC         82   \n",
       "2832                                 NASCAR Thunder 2002     XBOX         82   \n",
       "2977                             NCAA March Madness 2004     XBOX         81   \n",
       "2980                                    NASCAR Heat 2002      PS2         81   \n",
       "3040                          Capcom Classics Collection     XBOX         81   \n",
       "3209                             Tiger Woods PGA Tour 07      PS3         81   \n",
       "3219                                                FORM       PC         81   \n",
       "3251                                         Flanker 2.0       PC         81   \n",
       "3373                                  Lumines Remastered     XONE         81   \n",
       "3383     The 2D Adventures of Rotating Octopus Character      PSP         81   \n",
       "3412                                 Knockout Kings 2001      PS2         81   \n",
       "3522                                        Sine Mora EX     XONE         80   \n",
       "3579                               Colin McRae Rally 2.0      GBA         80   \n",
       "3671                            The Jackbox Party Pack 5      PS4         80   \n",
       "3713                            Karaoke Revolution Party       GC         80   \n",
       "...                                                  ...      ...        ...   \n",
       "15708                      Dr. Seuss' The Cat in the Hat      GBA         40   \n",
       "15709                      Ducati World Racing Challenge       DC         40   \n",
       "15717                                          Protothea      WII         40   \n",
       "15720                                   Underground Pool       DS         40   \n",
       "15721                          Freedom: First Resistance       PC         40   \n",
       "15724                                   Xiaolin Showdown     XBOX         40   \n",
       "15730                            Brain Boost: Gamma Wave       DS         40   \n",
       "15731  MTV Sports: Skateboarding featuring Andy Macdo...       PS         40   \n",
       "15735                            Freestyle Street Soccer     XBOX         40   \n",
       "15760                                      Pocket Racers      PSP         39   \n",
       "15779                                 Tony Hawk's Motion       DS         39   \n",
       "15826                                   ECW Anarchy Rulz       DC         38   \n",
       "15829                             Evolution Snowboarding      PS2         38   \n",
       "15831                                The Ripping Friends      GBA         38   \n",
       "15843                                        Pocket Pool      PSP         37   \n",
       "15857                                    NFL Blitz 20-02      GBA         37   \n",
       "15858                                           Defender      GBA         37   \n",
       "15862                          Ready 2 Rumble Revolution      WII         37   \n",
       "15863                      Mike Tyson Heavyweight Boxing     XBOX         37   \n",
       "15879  Torino 2006 - the Official Video Game of the X...     XBOX         36   \n",
       "15891                                   Dream Chronicles     X360         36   \n",
       "15893                Air Conflicts: Aces of World War II      PSP         36   \n",
       "15912                                   Jackass the Game       DS         35   \n",
       "15934                                      King of Clubs      WII         35   \n",
       "15951                          Astro Boy: The Video Game       DS         34   \n",
       "15968                            Demonworld: Dark Armies       PC         33   \n",
       "15992                                   Jenga World Tour       DS         32   \n",
       "16008                                   Dream Chronicles      PS3         31   \n",
       "16009                                      CID The Dummy      WII         31   \n",
       "16010                                  Smash 'N' Survive      PS3         31   \n",
       "\n",
       "      User Score Release Date  \n",
       "474          tbd   2004-08-09  \n",
       "868          tbd   2004-09-20  \n",
       "924          tbd   2019-01-18  \n",
       "999          tbd   2002-01-09  \n",
       "1146         tbd   2004-08-31  \n",
       "1317         tbd   2002-12-05  \n",
       "1698         tbd   2001-11-25  \n",
       "1946         tbd   2011-12-13  \n",
       "2034         tbd   2002-09-19  \n",
       "2098         tbd   2002-10-08  \n",
       "2208         tbd   2019-02-14  \n",
       "2258         tbd   2018-08-28  \n",
       "2321         tbd   2018-11-06  \n",
       "2516         tbd   2001-06-08  \n",
       "2692         tbd   2002-12-02  \n",
       "2741         tbd   2017-09-20  \n",
       "2832         tbd   2001-11-14  \n",
       "2977         tbd   2003-11-17  \n",
       "2980         tbd   2001-06-18  \n",
       "3040         tbd   2005-09-27  \n",
       "3209         tbd   2006-11-14  \n",
       "3219         tbd   2017-06-01  \n",
       "3251         tbd   1999-09-30  \n",
       "3373         tbd   2018-06-26  \n",
       "3383         tbd   2011-06-02  \n",
       "3412         tbd   2001-02-05  \n",
       "3522         tbd   2017-08-08  \n",
       "3579         tbd   2002-09-16  \n",
       "3671         tbd   2018-10-16  \n",
       "3713         tbd   2005-11-08  \n",
       "...          ...          ...  \n",
       "15708        tbd   2003-11-05  \n",
       "15709        tbd   2001-02-13  \n",
       "15717        tbd   2008-06-02  \n",
       "15720        tbd   2007-01-26  \n",
       "15721        tbd   2000-12-14  \n",
       "15724        tbd   2006-11-15  \n",
       "15730        tbd   2006-11-17  \n",
       "15731        tbd   2000-09-12  \n",
       "15735        tbd   2004-03-25  \n",
       "15760        tbd   2006-11-14  \n",
       "15779        tbd   2008-11-18  \n",
       "15826        tbd   2000-12-30  \n",
       "15829        tbd   2002-11-26  \n",
       "15831        tbd   2002-03-24  \n",
       "15843        tbd   2007-04-18  \n",
       "15857        tbd   2001-09-17  \n",
       "15858        tbd   2002-11-03  \n",
       "15862        tbd   2009-03-17  \n",
       "15863        tbd   2002-07-17  \n",
       "15879        tbd   2006-01-24  \n",
       "15891        tbd   2010-10-20  \n",
       "15893        tbd   2009-04-14  \n",
       "15912        tbd   2008-01-08  \n",
       "15934        tbd   2008-08-04  \n",
       "15951        tbd   2009-10-20  \n",
       "15968        tbd   2002-01-13  \n",
       "15992        tbd   2007-11-13  \n",
       "16008        tbd   2010-11-23  \n",
       "16009        tbd   2009-07-07  \n",
       "16010        tbd   2012-02-22  \n",
       "\n",
       "[1374 rows x 5 columns]"
      ]
     },
     "execution_count": 261,
     "metadata": {},
     "output_type": "execute_result"
    }
   ],
   "source": [
    "#user_score = reviews['User Score']\n",
    "#user_score = user_score.replace(\"tbd\", 'Nan')\n",
    "# pd.to_numeric(user_score)\n",
    "user_score = reviews.groupby('User Score')['Title'].count()\n",
    "reviews[reviews['User Score']=='tbd']"
   ]
  },
  {
   "cell_type": "markdown",
   "metadata": {},
   "source": [
    "### Platform"
   ]
  },
  {
   "cell_type": "code",
   "execution_count": 228,
   "metadata": {},
   "outputs": [
    {
     "data": {
      "text/plain": [
       "array(['N64', 'PS', 'PS3', 'DC', 'X360', 'WII', 'XONE', 'Switch', 'PS2',\n",
       "       'PS4', 'GC', 'XBOX', 'PC', 'WIIU', 'GBA', '3DS', 'DS', 'VITA', 'PSP'], dtype=object)"
      ]
     },
     "execution_count": 228,
     "metadata": {},
     "output_type": "execute_result"
    }
   ],
   "source": [
    "reviews['Platform'].unique()"
   ]
  },
  {
   "cell_type": "code",
   "execution_count": 244,
   "metadata": {},
   "outputs": [
    {
     "data": {
      "text/html": [
       "<div>\n",
       "<style scoped>\n",
       "    .dataframe tbody tr th:only-of-type {\n",
       "        vertical-align: middle;\n",
       "    }\n",
       "\n",
       "    .dataframe tbody tr th {\n",
       "        vertical-align: top;\n",
       "    }\n",
       "\n",
       "    .dataframe thead th {\n",
       "        text-align: right;\n",
       "    }\n",
       "</style>\n",
       "<table border=\"1\" class=\"dataframe\">\n",
       "  <thead>\n",
       "    <tr style=\"text-align: right;\">\n",
       "      <th></th>\n",
       "      <th>User Score</th>\n",
       "      <th>Metascore</th>\n",
       "    </tr>\n",
       "    <tr>\n",
       "      <th>Platform</th>\n",
       "      <th></th>\n",
       "      <th></th>\n",
       "    </tr>\n",
       "  </thead>\n",
       "  <tbody>\n",
       "    <tr>\n",
       "      <th>3DS</th>\n",
       "      <td>tbd</td>\n",
       "      <td>94</td>\n",
       "    </tr>\n",
       "    <tr>\n",
       "      <th>DC</th>\n",
       "      <td>tbd</td>\n",
       "      <td>98</td>\n",
       "    </tr>\n",
       "    <tr>\n",
       "      <th>DS</th>\n",
       "      <td>tbd</td>\n",
       "      <td>93</td>\n",
       "    </tr>\n",
       "    <tr>\n",
       "      <th>GBA</th>\n",
       "      <td>tbd</td>\n",
       "      <td>95</td>\n",
       "    </tr>\n",
       "    <tr>\n",
       "      <th>GC</th>\n",
       "      <td>tbd</td>\n",
       "      <td>97</td>\n",
       "    </tr>\n",
       "    <tr>\n",
       "      <th>N64</th>\n",
       "      <td>tbd</td>\n",
       "      <td>99</td>\n",
       "    </tr>\n",
       "    <tr>\n",
       "      <th>PC</th>\n",
       "      <td>tbd</td>\n",
       "      <td>96</td>\n",
       "    </tr>\n",
       "    <tr>\n",
       "      <th>PS</th>\n",
       "      <td>tbd</td>\n",
       "      <td>98</td>\n",
       "    </tr>\n",
       "    <tr>\n",
       "      <th>PS2</th>\n",
       "      <td>tbd</td>\n",
       "      <td>97</td>\n",
       "    </tr>\n",
       "    <tr>\n",
       "      <th>PS3</th>\n",
       "      <td>tbd</td>\n",
       "      <td>98</td>\n",
       "    </tr>\n",
       "    <tr>\n",
       "      <th>PS4</th>\n",
       "      <td>tbd</td>\n",
       "      <td>97</td>\n",
       "    </tr>\n",
       "    <tr>\n",
       "      <th>PSP</th>\n",
       "      <td>tbd</td>\n",
       "      <td>91</td>\n",
       "    </tr>\n",
       "    <tr>\n",
       "      <th>Switch</th>\n",
       "      <td>tbd</td>\n",
       "      <td>97</td>\n",
       "    </tr>\n",
       "    <tr>\n",
       "      <th>VITA</th>\n",
       "      <td>tbd</td>\n",
       "      <td>93</td>\n",
       "    </tr>\n",
       "    <tr>\n",
       "      <th>WII</th>\n",
       "      <td>tbd</td>\n",
       "      <td>97</td>\n",
       "    </tr>\n",
       "    <tr>\n",
       "      <th>WIIU</th>\n",
       "      <td>tbd</td>\n",
       "      <td>96</td>\n",
       "    </tr>\n",
       "    <tr>\n",
       "      <th>X360</th>\n",
       "      <td>tbd</td>\n",
       "      <td>98</td>\n",
       "    </tr>\n",
       "    <tr>\n",
       "      <th>XBOX</th>\n",
       "      <td>tbd</td>\n",
       "      <td>97</td>\n",
       "    </tr>\n",
       "    <tr>\n",
       "      <th>XONE</th>\n",
       "      <td>tbd</td>\n",
       "      <td>97</td>\n",
       "    </tr>\n",
       "  </tbody>\n",
       "</table>\n",
       "</div>"
      ],
      "text/plain": [
       "         User Score Metascore\n",
       "Platform                     \n",
       "3DS             tbd        94\n",
       "DC              tbd        98\n",
       "DS              tbd        93\n",
       "GBA             tbd        95\n",
       "GC              tbd        97\n",
       "N64             tbd        99\n",
       "PC              tbd        96\n",
       "PS              tbd        98\n",
       "PS2             tbd        97\n",
       "PS3             tbd        98\n",
       "PS4             tbd        97\n",
       "PSP             tbd        91\n",
       "Switch          tbd        97\n",
       "VITA            tbd        93\n",
       "WII             tbd        97\n",
       "WIIU            tbd        96\n",
       "X360            tbd        98\n",
       "XBOX            tbd        97\n",
       "XONE            tbd        97"
      ]
     },
     "execution_count": 244,
     "metadata": {},
     "output_type": "execute_result"
    }
   ],
   "source": [
    "platform = reviews.groupby('Platform')['Title'].count()\n",
    "platform_reviews = reviews.groupby('Platform').aggregate({'Metascore':'max', 'User Score':'max'})\n",
    "platform\n",
    "platform_reviews"
   ]
  },
  {
   "cell_type": "code",
   "execution_count": 217,
   "metadata": {},
   "outputs": [],
   "source": [
    "reviews['Release Date'] = pd.to_datetime(reviews['Release Date'])"
   ]
  },
  {
   "cell_type": "code",
   "execution_count": 218,
   "metadata": {},
   "outputs": [
    {
     "name": "stdout",
     "output_type": "stream",
     "text": [
      "<class 'pandas.core.frame.DataFrame'>\n",
      "RangeIndex: 16099 entries, 0 to 16098\n",
      "Data columns (total 5 columns):\n",
      "Title           16099 non-null object\n",
      "Platform        16099 non-null object\n",
      "Metascore       16099 non-null object\n",
      "User Score      16099 non-null object\n",
      "Release Date    16099 non-null datetime64[ns]\n",
      "dtypes: datetime64[ns](1), object(4)\n",
      "memory usage: 628.9+ KB\n"
     ]
    }
   ],
   "source": [
    "reviews.info()"
   ]
  },
  {
   "cell_type": "code",
   "execution_count": null,
   "metadata": {},
   "outputs": [],
   "source": []
  },
  {
   "cell_type": "code",
   "execution_count": 216,
   "metadata": {},
   "outputs": [
    {
     "data": {
      "text/plain": [
       "2000"
      ]
     },
     "execution_count": 216,
     "metadata": {},
     "output_type": "execute_result"
    }
   ],
   "source": []
  },
  {
   "cell_type": "code",
   "execution_count": null,
   "metadata": {},
   "outputs": [],
   "source": []
  }
 ],
 "metadata": {
  "kernelspec": {
   "display_name": "Python 3",
   "language": "python",
   "name": "python3"
  },
  "language_info": {
   "codemirror_mode": {
    "name": "ipython",
    "version": 3
   },
   "file_extension": ".py",
   "mimetype": "text/x-python",
   "name": "python",
   "nbconvert_exporter": "python",
   "pygments_lexer": "ipython3",
   "version": "3.5.4"
  }
 },
 "nbformat": 4,
 "nbformat_minor": 2
}
