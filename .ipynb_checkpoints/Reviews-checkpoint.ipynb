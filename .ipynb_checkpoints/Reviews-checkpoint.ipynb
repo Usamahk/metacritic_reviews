{
 "cells": [
  {
   "cell_type": "markdown",
   "metadata": {},
   "source": [
    "# Game reviews\n",
    "\n",
    "This notebook is where I perfrom some of the basics to scrape metacritic of it's data on video games. With this I can perform some analysis, create some vizualizations and do a study on one of my favorite subjects.\n",
    "\n",
    "First let's import some libraries"
   ]
  },
  {
   "cell_type": "code",
   "execution_count": 3,
   "metadata": {},
   "outputs": [],
   "source": [
    "import pandas as pd\n",
    "import requests\n",
    "import bs4\n",
    "from bs4 import BeautifulSoup\n",
    "import urllib\n",
    "from urllib.request import urlopen\n",
    "import matplotlib as plt\n",
    "%matplotlib inline"
   ]
  },
  {
   "cell_type": "markdown",
   "metadata": {},
   "source": [
    "Below are the URLs for both the detailed and condensed views. There are differences to how it's laid out, the detailed has additional data such as images and review excerpts/descriptions but is a little harder to wrangle so to get the important info such as title, platfrom, year, user and metascore I'm using the condensed view"
   ]
  },
  {
   "cell_type": "code",
   "execution_count": 4,
   "metadata": {},
   "outputs": [],
   "source": [
    "#URL = \"https://www.metacritic.com/browse/games/score/metascore/all/all/filtered?sort=desc&view=detailed\"\n",
    "URL = \"https://www.metacritic.com/browse/games/score/metascore/all/all/filtered?view=condensed&sort=desc&page=0\""
   ]
  },
  {
   "cell_type": "markdown",
   "metadata": {},
   "source": [
    "Metacritic only allows browsers to access so just had to put this little header so it thinks I'm a person accessing"
   ]
  },
  {
   "cell_type": "code",
   "execution_count": 183,
   "metadata": {},
   "outputs": [],
   "source": [
    "user_agent = 'Mozilla/5.0 (Windows; U; Windows NT 5.1; en-US; rv:1.9.0.7) Gecko/2009021910 Firefox/3.0.7'\n",
    "headers = {'User-Agent':user_agent,} \n",
    "request = urllib.request.Request(URL,None,headers) \n",
    "response = urllib.request.urlopen(request)\n",
    "data = response.read()\n",
    "\n",
    "soup = BeautifulSoup(data, \"html.parser\")"
   ]
  },
  {
   "cell_type": "code",
   "execution_count": 64,
   "metadata": {},
   "outputs": [],
   "source": [
    "# Just to check everything is in order\n",
    "# print(soup)"
   ]
  },
  {
   "cell_type": "code",
   "execution_count": 18,
   "metadata": {},
   "outputs": [],
   "source": [
    "test = soup.find('div', class_ = \"product_wrap\")"
   ]
  },
  {
   "cell_type": "markdown",
   "metadata": {},
   "source": [
    "Here is the pattern of the chunks im interested in"
   ]
  },
  {
   "cell_type": "code",
   "execution_count": 19,
   "metadata": {},
   "outputs": [
    {
     "data": {
      "text/plain": [
       "<div class=\"product_wrap\">\n",
       "<div class=\"basic_stat product_title\">\n",
       "<a href=\"/game/nintendo-64/the-legend-of-zelda-ocarina-of-time\">\n",
       "                            The Legend of Zelda: Ocarina of Time\n",
       "                                                            (N64)\n",
       "                                                    </a>\n",
       "</div>\n",
       "<div class=\"basic_stat product_score brief_metascore\">\n",
       "<div class=\"metascore_w small game positive\">99</div>\n",
       "</div>\n",
       "<div class=\"more_stats condensed_stats\">\n",
       "<ul class=\"more_stats\">\n",
       "<li class=\"stat product_avguserscore\">\n",
       "<span class=\"label\">User:</span>\n",
       "<span class=\"data textscore textscore_outstanding\">9.1</span>\n",
       "</li>\n",
       "<li class=\"stat release_date full_release_date\">\n",
       "<span class=\"label\">Release Date:</span>\n",
       "<span class=\"data\">Nov 23, 1998</span>\n",
       "</li>\n",
       "</ul>\n",
       "</div>\n",
       "</div>"
      ]
     },
     "execution_count": 19,
     "metadata": {},
     "output_type": "execute_result"
    }
   ],
   "source": [
    "test"
   ]
  },
  {
   "cell_type": "markdown",
   "metadata": {},
   "source": [
    "### Debugging"
   ]
  },
  {
   "cell_type": "code",
   "execution_count": 191,
   "metadata": {},
   "outputs": [],
   "source": [
    "games = soup.find('div', class_ = \"product_wrap\")"
   ]
  },
  {
   "cell_type": "code",
   "execution_count": 192,
   "metadata": {},
   "outputs": [
    {
     "data": {
      "text/plain": [
       "<div class=\"product_wrap\">\n",
       "<div class=\"basic_stat product_title\">\n",
       "<a href=\"/game/wii/mysims-skyheroes\">\n",
       "                            MySims SkyHeroes\n",
       "                                                            (WII)\n",
       "                                                    </a>\n",
       "</div>\n",
       "<div class=\"basic_stat product_score brief_metascore\">\n",
       "<div class=\"metascore_w small game mixed\">67</div>\n",
       "</div>\n",
       "<div class=\"more_stats condensed_stats\">\n",
       "<ul class=\"more_stats\">\n",
       "<li class=\"stat product_avguserscore\">\n",
       "<span class=\"label\">User:</span>\n",
       "<span class=\"data textscore textscore_mixed\">5.3</span>\n",
       "</li>\n",
       "<li class=\"stat release_date full_release_date\">\n",
       "<span class=\"label\">Release Date:</span>\n",
       "<span class=\"data\">Sep 28, 2010</span>\n",
       "</li>\n",
       "</ul>\n",
       "</div>\n",
       "</div>"
      ]
     },
     "execution_count": 192,
     "metadata": {},
     "output_type": "execute_result"
    }
   ],
   "source": [
    "games"
   ]
  },
  {
   "cell_type": "markdown",
   "metadata": {},
   "source": [
    "#### Scrape the title and platform"
   ]
  },
  {
   "cell_type": "code",
   "execution_count": 193,
   "metadata": {
    "scrolled": true
   },
   "outputs": [
    {
     "name": "stdout",
     "output_type": "stream",
     "text": [
      "MySims SkyHeroes\n",
      "(WII)\n"
     ]
    }
   ],
   "source": [
    "title_platform = games.find('a').text\n",
    "title_platform = str(title_platform).replace(\"\\n\".join([\"  \"]), \"\").strip()\n",
    "\n",
    "print(title_platform)"
   ]
  },
  {
   "cell_type": "markdown",
   "metadata": {},
   "source": [
    "Theres a little formatting to do here so need to pull platform and title from each other"
   ]
  },
  {
   "cell_type": "code",
   "execution_count": 148,
   "metadata": {},
   "outputs": [
    {
     "name": "stdout",
     "output_type": "stream",
     "text": [
      "3\n",
      "N64\n",
      "The Legend of Zelda: Ocarina of Time\n"
     ]
    },
    {
     "data": {
      "text/plain": [
       "'N64'"
      ]
     },
     "execution_count": 148,
     "metadata": {},
     "output_type": "execute_result"
    }
   ],
   "source": [
    "title_platform\n",
    "title = title_platform[0:title_platform.find('\\n')]\n",
    "platform = title_platform[title_platform.find('\\n')+2:len(title_platform)-1]\n",
    "print(len(platform))\n",
    "\n",
    "\n",
    "print(platform)\n",
    "print(title)\n",
    "platform\n"
   ]
  },
  {
   "cell_type": "code",
   "execution_count": 123,
   "metadata": {},
   "outputs": [
    {
     "data": {
      "text/plain": [
       "'1234'"
      ]
     },
     "execution_count": 123,
     "metadata": {},
     "output_type": "execute_result"
    }
   ],
   "source": [
    "\n",
    "\\>>> s = 'gfgfdAAA1234ZZZuijjk'\n",
    ">>> start = s.find('AAA') + 3\n",
    ">>> end = s.find('ZZZ', start)\n",
    ">>> s[start:end]"
   ]
  },
  {
   "cell_type": "markdown",
   "metadata": {},
   "source": [
    "#### Scrape scores"
   ]
  },
  {
   "cell_type": "code",
   "execution_count": 70,
   "metadata": {},
   "outputs": [
    {
     "name": "stdout",
     "output_type": "stream",
     "text": [
      "99 9.1\n"
     ]
    }
   ],
   "source": [
    "m_score = games.find('div', class_ = 'metascore_w').text\n",
    "u_score = games.find('span', class_ = 'textscore').text\n",
    "\n",
    "print(m_score, u_score)"
   ]
  },
  {
   "cell_type": "markdown",
   "metadata": {},
   "source": [
    "#### Scrape release date"
   ]
  },
  {
   "cell_type": "code",
   "execution_count": 84,
   "metadata": {},
   "outputs": [
    {
     "name": "stdout",
     "output_type": "stream",
     "text": [
      "Nov 23, 1998\n"
     ]
    }
   ],
   "source": [
    "r_date = games.find_all('span', class_= 'data')[1].text\n",
    "print(r_date)"
   ]
  },
  {
   "cell_type": "markdown",
   "metadata": {},
   "source": [
    "## The scraping loop\n",
    "Right now, this loop is doing just the first page. But there are 161 pages each with 100 reviews on them so an approx 16100 games in this df"
   ]
  },
  {
   "cell_type": "code",
   "execution_count": null,
   "metadata": {},
   "outputs": [],
   "source": []
  },
  {
   "cell_type": "markdown",
   "metadata": {},
   "source": [
    "It seems like it takes about 3.775 seconds on average per page. So multiplying that by 162 and dividing by 50 seems to mean that it will take about 10 minutes to fully scrape"
   ]
  },
  {
   "cell_type": "code",
   "execution_count": 168,
   "metadata": {},
   "outputs": [
    {
     "data": {
      "text/plain": [
       "10.192499999999999"
      ]
     },
     "execution_count": 168,
     "metadata": {},
     "output_type": "execute_result"
    }
   ],
   "source": [
    "(3.775 *162)/60"
   ]
  },
  {
   "cell_type": "markdown",
   "metadata": {},
   "source": [
    "Note that this chunk timed out once, not sure why but in loading a new page it didnt load fully. Possibly because I left the screen but not sure.."
   ]
  },
  {
   "cell_type": "code",
   "execution_count": 197,
   "metadata": {},
   "outputs": [
    {
     "ename": "AttributeError",
     "evalue": "'NoneType' object has no attribute 'text'",
     "output_type": "error",
     "traceback": [
      "\u001b[0;31m---------------------------------------------------------------------------\u001b[0m",
      "\u001b[0;31mAttributeError\u001b[0m                            Traceback (most recent call last)",
      "\u001b[0;32m<timed exec>\u001b[0m in \u001b[0;36m<module>\u001b[0;34m()\u001b[0m\n",
      "\u001b[0;31mAttributeError\u001b[0m: 'NoneType' object has no attribute 'text'"
     ]
    }
   ],
   "source": [
    "%%time\n",
    "#df = pd.DataFrame(columns=[\"Title\", \"Platform\", \"Metascore\", \"User Score\", \"Release Date\"])\n",
    "\n",
    "for i in range(0,162):\n",
    "    URL = \"https://www.metacritic.com/browse/games/score/metascore/all/all/filtered?view=condensed&sort=desc&page=\"+str(i)\n",
    "    user_agent = 'Mozilla/5.0 (Windows; U; Windows NT 5.1; en-US; rv:1.9.0.7) Gecko/2009021910 Firefox/3.0.7'\n",
    "    headers = {'User-Agent':user_agent,} \n",
    "    request = urllib.request.Request(URL,None,headers) \n",
    "    response = urllib.request.urlopen(request)\n",
    "    data = response.read()\n",
    "\n",
    "    soup = BeautifulSoup(data, \"html.parser\")\n",
    "\n",
    "    for games in soup.find_all('div', class_ = \"product_wrap\", limit=100):\n",
    "\n",
    "        # Extract title and platform\n",
    "        title_platform = games.find('a').text\n",
    "        title_platform = str(title_platform).replace(\"\\n\".join([\"  \"]), \"\").strip()\n",
    "\n",
    "        title = title_platform[0:title_platform.find('\\n')]\n",
    "        platform = title_platform[title_platform.find('\\n')+2:len(title_platform)-1]\n",
    "\n",
    "        # Extract Metascore and User score\n",
    "        m_score = games.find('div', class_ = 'metascore_w').text\n",
    "        u_score = games.find('span', class_ = 'textscore').text\n",
    "\n",
    "        # Extract release date\n",
    "        r_date = games.find_all('span', class_= 'data')[1].text\n",
    "\n",
    "        df = df.append({'Title':title, 'Platform':platform ,'Metascore':m_score, 'User Score':u_score, 'Release Date':r_date}, ignore_index = True)"
   ]
  },
  {
   "cell_type": "markdown",
   "metadata": {},
   "source": [
    "Now the finished data frame"
   ]
  },
  {
   "cell_type": "code",
   "execution_count": 204,
   "metadata": {},
   "outputs": [
    {
     "data": {
      "text/html": [
       "<div>\n",
       "<style scoped>\n",
       "    .dataframe tbody tr th:only-of-type {\n",
       "        vertical-align: middle;\n",
       "    }\n",
       "\n",
       "    .dataframe tbody tr th {\n",
       "        vertical-align: top;\n",
       "    }\n",
       "\n",
       "    .dataframe thead th {\n",
       "        text-align: right;\n",
       "    }\n",
       "</style>\n",
       "<table border=\"1\" class=\"dataframe\">\n",
       "  <thead>\n",
       "    <tr style=\"text-align: right;\">\n",
       "      <th></th>\n",
       "      <th>Title</th>\n",
       "      <th>Platform</th>\n",
       "      <th>Metascore</th>\n",
       "      <th>User Score</th>\n",
       "      <th>Release Date</th>\n",
       "    </tr>\n",
       "  </thead>\n",
       "  <tbody>\n",
       "    <tr>\n",
       "      <th>0</th>\n",
       "      <td>The Legend of Zelda: Ocarina of Time</td>\n",
       "      <td>N64</td>\n",
       "      <td>99</td>\n",
       "      <td>9.1</td>\n",
       "      <td>Nov 23, 1998</td>\n",
       "    </tr>\n",
       "    <tr>\n",
       "      <th>1</th>\n",
       "      <td>Tony Hawk's Pro Skater 2</td>\n",
       "      <td>PS</td>\n",
       "      <td>98</td>\n",
       "      <td>7.4</td>\n",
       "      <td>Sep 20, 2000</td>\n",
       "    </tr>\n",
       "    <tr>\n",
       "      <th>2</th>\n",
       "      <td>Grand Theft Auto IV</td>\n",
       "      <td>PS3</td>\n",
       "      <td>98</td>\n",
       "      <td>7.5</td>\n",
       "      <td>Apr 29, 2008</td>\n",
       "    </tr>\n",
       "    <tr>\n",
       "      <th>3</th>\n",
       "      <td>SoulCalibur</td>\n",
       "      <td>DC</td>\n",
       "      <td>98</td>\n",
       "      <td>8.7</td>\n",
       "      <td>Sep  8, 1999</td>\n",
       "    </tr>\n",
       "    <tr>\n",
       "      <th>4</th>\n",
       "      <td>Grand Theft Auto IV</td>\n",
       "      <td>X360</td>\n",
       "      <td>98</td>\n",
       "      <td>7.9</td>\n",
       "      <td>Apr 29, 2008</td>\n",
       "    </tr>\n",
       "  </tbody>\n",
       "</table>\n",
       "</div>"
      ],
      "text/plain": [
       "                                  Title Platform Metascore User Score  \\\n",
       "0  The Legend of Zelda: Ocarina of Time      N64        99        9.1   \n",
       "1              Tony Hawk's Pro Skater 2       PS        98        7.4   \n",
       "2                   Grand Theft Auto IV      PS3        98        7.5   \n",
       "3                           SoulCalibur       DC        98        8.7   \n",
       "4                   Grand Theft Auto IV     X360        98        7.9   \n",
       "\n",
       "   Release Date  \n",
       "0  Nov 23, 1998  \n",
       "1  Sep 20, 2000  \n",
       "2  Apr 29, 2008  \n",
       "3  Sep  8, 1999  \n",
       "4  Apr 29, 2008  "
      ]
     },
     "execution_count": 204,
     "metadata": {},
     "output_type": "execute_result"
    }
   ],
   "source": [
    "df.head()"
   ]
  },
  {
   "cell_type": "markdown",
   "metadata": {},
   "source": [
    "Of course I dont want to lose this so just saved to csv and pickled it as well for an easy read"
   ]
  },
  {
   "cell_type": "code",
   "execution_count": 199,
   "metadata": {},
   "outputs": [],
   "source": [
    "df.to_csv('meta_reviews.csv')\n",
    "df.to_pickle('meta_reviews.pkl')"
   ]
  },
  {
   "cell_type": "markdown",
   "metadata": {},
   "source": [
    "## Analysis"
   ]
  },
  {
   "cell_type": "code",
   "execution_count": 202,
   "metadata": {},
   "outputs": [],
   "source": []
  }
 ],
 "metadata": {
  "kernelspec": {
   "display_name": "Python 3",
   "language": "python",
   "name": "python3"
  },
  "language_info": {
   "codemirror_mode": {
    "name": "ipython",
    "version": 3
   },
   "file_extension": ".py",
   "mimetype": "text/x-python",
   "name": "python",
   "nbconvert_exporter": "python",
   "pygments_lexer": "ipython3",
   "version": "3.5.4"
  }
 },
 "nbformat": 4,
 "nbformat_minor": 2
}
